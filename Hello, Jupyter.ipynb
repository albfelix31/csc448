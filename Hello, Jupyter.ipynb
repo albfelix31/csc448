{
 "cells": [
  {
   "cell_type": "markdown",
   "id": "sharp-incident",
   "metadata": {},
   "source": [
    "# CSc 44800: Artificial Intelligence \n",
    "## Assignment 2\n",
    "### Albert Felix\n",
    "### Prof. Hunter McNichols\n",
    "### March 20th, 2021"
   ]
  },
  {
   "cell_type": "markdown",
   "id": "dependent-venue",
   "metadata": {},
   "source": [
    "## Quick Introduction"
   ]
  },
  {
   "cell_type": "code",
   "execution_count": 8,
   "id": "referenced-position",
   "metadata": {},
   "outputs": [
    {
     "name": "stdout",
     "output_type": "stream",
     "text": [
      "Hello! My name is Albert Felix.\n",
      "I am a current senior at the City College of New York.\n",
      "I am majoring in Computer Science and minoring in Women's Studies.\n",
      "My career goal after graduation is to work at Twitter as a Backend Software Engineer.\n"
     ]
    }
   ],
   "source": [
    "print(\"Hello! My name is Albert Felix.\")\n",
    "print(\"I am a current senior at the City College of New York.\")\n",
    "print(\"I am majoring in Computer Science and minoring in Women's Studies.\")\n",
    "print(\"My career goal after graduation is to work at Twitter as a Backend Software Engineer.\")"
   ]
  },
  {
   "cell_type": "markdown",
   "id": "painted-intensity",
   "metadata": {},
   "source": [
    "## Coding Interview Question"
   ]
  },
  {
   "cell_type": "markdown",
   "id": "disciplinary-richardson",
   "metadata": {},
   "source": [
    "Below is a coding question that I received during a technical interview."
   ]
  },
  {
   "cell_type": "markdown",
   "id": "hollow-stamp",
   "metadata": {},
   "source": [
    "_You are given a list that may have up to 26 elements. Each index in the list represents a letter in the alphabet, and the value of that index represents how many of that character we have. Return a list of the different subsets of characters of size 7 that we can construct from this. **Note: Order does not matter, i.e., do not return subsets that contain the same elements that another subset already has.**_"
   ]
  },
  {
   "cell_type": "markdown",
   "id": "verbal-terminal",
   "metadata": {},
   "source": [
    "_**Example:** input is [3,5,2], meaning that we have 3 a’s, 5 b’s, and 2 c’s. From this, we would return:_"
   ]
  },
  {
   "cell_type": "markdown",
   "id": "bigger-cameroon",
   "metadata": {},
   "source": [
    "['a', 'a', 'a', 'b', 'b', 'b', 'b']\n",
    "\n",
    "['a', 'a', 'b', 'b', 'b', 'b', 'b']\n",
    "\n",
    "['a', 'a', 'a', 'b', 'b', 'b', 'c']\n",
    "\n",
    "['a', 'a', 'b', 'b', 'b', 'b', 'c']\n",
    "\n",
    "['a', 'b', 'b', 'b', 'b', 'b', 'c']\n",
    "\n",
    "['a', 'a', 'a', 'b', 'b', 'c', 'c']\n",
    "\n",
    "['a', 'a', 'b', 'b', 'b', 'c', 'c']\n",
    "\n",
    "['a', 'b', 'b', 'b', 'b', 'c', 'c']\n",
    "\n",
    "['b', 'b', 'b', 'b', 'b', 'c', 'c']"
   ]
  },
  {
   "cell_type": "markdown",
   "id": "detected-german",
   "metadata": {},
   "source": [
    "## Solution"
   ]
  },
  {
   "cell_type": "markdown",
   "id": "metallic-transcription",
   "metadata": {},
   "source": [
    "The solution that I came up with for this problem is as follows:"
   ]
  },
  {
   "cell_type": "markdown",
   "id": "dental-debate",
   "metadata": {},
   "source": [
    "First, we create a function that will return a mapping of each letter represented in the given list to their numerical ASCII value."
   ]
  },
  {
   "cell_type": "code",
   "execution_count": 9,
   "id": "promising-academy",
   "metadata": {},
   "outputs": [],
   "source": [
    "def getMapping(chars):\n",
    "    alphabet = {}\n",
    "    initial = 97 # value of 'a'\n",
    "    for i in range(len(chars)):\n",
    "        char = chr(initial+i)\n",
    "        alphabet[char] = chars[i]\n",
    "    return alphabet"
   ]
  },
  {
   "cell_type": "markdown",
   "id": "invisible-shift",
   "metadata": {},
   "source": [
    "Next, we create the function that will solve the problem. This function works by first creating a dictionary that maps each letter represented by the given list to their ASCII value. Next, we use create a variable that will contain all the subsets that we can create from the given list, and a seen variable that will contain all the subsets we have seen so far. Then, we iterate through each key in the dictionary we created, and perform a breadth-first search to store all the different subsets we can create. As we add each character that we have to each subset, we substract the amount that we have for that character, until we do not have it anymore. Once we reach subsets of size 7, we store them into the variable _ans_, which will contain all the different subsets of size 7 that we can create from these conditions."
   ]
  },
  {
   "cell_type": "code",
   "execution_count": 10,
   "id": "joined-height",
   "metadata": {},
   "outputs": [],
   "source": [
    "def getWords(chars):\n",
    "    alphabet = getMapping(chars)\n",
    "    subsets = []\n",
    "    subsets.append([])\n",
    "    seen = set()\n",
    "    seen.add(\"[]\")\n",
    "    keys = list(alphabet.keys())\n",
    "    ans = []\n",
    "    for key in keys:\n",
    "        while key in alphabet:\n",
    "            size = len(subsets)\n",
    "            for i in range(len(subsets)):\n",
    "                curr = list(subsets[i])\n",
    "                curr.append(key)\n",
    "                if str(curr) not in seen:\n",
    "                    subsets.append(curr)\n",
    "                    seen.add(str(curr))\n",
    "                    if len(curr) == 7:\n",
    "                        ans.append(curr)\n",
    "            alphabet[key] -= 1\n",
    "            if alphabet[key] == 0:\n",
    "                del alphabet[key]\n",
    "    return ans"
   ]
  },
  {
   "cell_type": "markdown",
   "id": "herbal-colorado",
   "metadata": {},
   "source": [
    "Lastly, we test our function."
   ]
  },
  {
   "cell_type": "code",
   "execution_count": 11,
   "id": "nominated-george",
   "metadata": {},
   "outputs": [
    {
     "name": "stdout",
     "output_type": "stream",
     "text": [
      "['a', 'a', 'a', 'b', 'b', 'b', 'b']\n",
      "['a', 'a', 'b', 'b', 'b', 'b', 'b']\n",
      "['a', 'a', 'a', 'b', 'b', 'b', 'c']\n",
      "['a', 'a', 'b', 'b', 'b', 'b', 'c']\n",
      "['a', 'b', 'b', 'b', 'b', 'b', 'c']\n",
      "['a', 'a', 'a', 'b', 'b', 'c', 'c']\n",
      "['a', 'a', 'b', 'b', 'b', 'c', 'c']\n",
      "['a', 'b', 'b', 'b', 'b', 'c', 'c']\n",
      "['b', 'b', 'b', 'b', 'b', 'c', 'c']\n"
     ]
    }
   ],
   "source": [
    "chars = [3, 5, 2] # we have 3 a's, 5 b's, and 2 c's\n",
    "ans = getWords(chars) # list of all the subsets of size 7 we can create from the given list\n",
    "for l in ans:\n",
    "    print(l)"
   ]
  },
  {
   "cell_type": "markdown",
   "id": "piano-occasions",
   "metadata": {},
   "source": [
    "The analysis of this function is as follows: \n",
    "\n",
    "**TIME COMPLEXITY:** O(N * 2^N)\n",
    "\n",
    "**SPACE COMPLEXITY:** O(N * 2^N)"
   ]
  },
  {
   "cell_type": "markdown",
   "id": "affecting-amazon",
   "metadata": {},
   "source": [
    "## Conclusion"
   ]
  },
  {
   "cell_type": "markdown",
   "id": "floral-treatment",
   "metadata": {},
   "source": [
    "To conclude, here is a screenshot of a Tweet that I saw recently on Tech Twitter that I felt was relevant to our class:\n",
    "![Random Unsplash Image](https://i.imgur.com/WXqKV79.jpg)\n"
   ]
  }
 ],
 "metadata": {
  "kernelspec": {
   "display_name": "Python 3",
   "language": "python",
   "name": "python3"
  },
  "language_info": {
   "codemirror_mode": {
    "name": "ipython",
    "version": 3
   },
   "file_extension": ".py",
   "mimetype": "text/x-python",
   "name": "python",
   "nbconvert_exporter": "python",
   "pygments_lexer": "ipython3",
   "version": "3.7.4"
  }
 },
 "nbformat": 4,
 "nbformat_minor": 5
}
